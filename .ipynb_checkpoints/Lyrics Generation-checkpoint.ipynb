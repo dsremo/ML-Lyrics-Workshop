{
 "cells": [
  {
   "cell_type": "code",
   "execution_count": 54,
   "metadata": {},
   "outputs": [],
   "source": [
    "import requests\n",
    "import numpy as np"
   ]
  },
  {
   "cell_type": "code",
   "execution_count": 10,
   "metadata": {},
   "outputs": [],
   "source": [
    "data = requests.get(\"https://raw.githubusercontent.com/coding-blocks-archives/ML-Noida-2019-June-Two/master/datasets/speeches/speech.txt\")"
   ]
  },
  {
   "cell_type": "code",
   "execution_count": 12,
   "metadata": {},
   "outputs": [],
   "source": [
    "data = data.text"
   ]
  },
  {
   "cell_type": "code",
   "execution_count": 18,
   "metadata": {},
   "outputs": [],
   "source": [
    "text = \"hello hello hello helli helly helly\""
   ]
  },
  {
   "cell_type": "raw",
   "metadata": {},
   "source": [
    "X  ,      y        freq\n",
    "\"hell\"    \"o\"       3\n",
    "\"ello\"    \"_\"\n",
    "\"llo \"    \"h\"\n",
    "\"lo h\"    \"e\"\n",
    "\n",
    ".\n",
    ".\n",
    ".\n",
    ".\n",
    "\"hell\"    'i'      1\n",
    "\"hell\"    'y'      2"
   ]
  },
  {
   "cell_type": "code",
   "execution_count": 21,
   "metadata": {},
   "outputs": [],
   "source": [
    "def generateTable(data, k =4 ):\n",
    "    T = {}\n",
    "    \n",
    "    for i in range(len(data) - k):\n",
    "        X = data[i : i+k ]\n",
    "        y = data[i+k]\n",
    "        \n",
    "        if T.get(X) is None:\n",
    "            T[X] = {}\n",
    "            T[X][y] = 1\n",
    "        else:\n",
    "            if T[X].get(y) is None:\n",
    "                T[X][y] = 1\n",
    "            else: \n",
    "                T[X][y] += 1\n",
    "    return T"
   ]
  },
  {
   "cell_type": "code",
   "execution_count": 27,
   "metadata": {},
   "outputs": [],
   "source": [
    "T = generateTable( data.lower() )"
   ]
  },
  {
   "cell_type": "code",
   "execution_count": 87,
   "metadata": {},
   "outputs": [],
   "source": [
    "generated_text = \"dear country\""
   ]
  },
  {
   "cell_type": "code",
   "execution_count": 88,
   "metadata": {},
   "outputs": [],
   "source": [
    "seed = generated_text[-4:]"
   ]
  },
  {
   "cell_type": "code",
   "execution_count": 89,
   "metadata": {},
   "outputs": [
    {
     "data": {
      "text/plain": [
       "'ntry'"
      ]
     },
     "execution_count": 89,
     "metadata": {},
     "output_type": "execute_result"
    }
   ],
   "source": [
    "seed"
   ]
  },
  {
   "cell_type": "code",
   "execution_count": 90,
   "metadata": {},
   "outputs": [],
   "source": [
    "possible_chars = list( T[seed].keys() )"
   ]
  },
  {
   "cell_type": "code",
   "execution_count": 91,
   "metadata": {},
   "outputs": [],
   "source": [
    "possible_freq = list( T[seed].values() )"
   ]
  },
  {
   "cell_type": "code",
   "execution_count": 92,
   "metadata": {},
   "outputs": [],
   "source": [
    "possible_probab = [ ele/sum(possible_freq) for ele in possible_freq]"
   ]
  },
  {
   "cell_type": "code",
   "execution_count": 93,
   "metadata": {},
   "outputs": [],
   "source": [
    "pred_char = np.random.choice(possible_chars, p = possible_probab )"
   ]
  },
  {
   "cell_type": "code",
   "execution_count": 94,
   "metadata": {},
   "outputs": [
    {
     "data": {
      "text/plain": [
       "'.'"
      ]
     },
     "execution_count": 94,
     "metadata": {},
     "output_type": "execute_result"
    }
   ],
   "source": [
    "pred_char"
   ]
  },
  {
   "cell_type": "code",
   "execution_count": 95,
   "metadata": {},
   "outputs": [],
   "source": [
    "seed = generated_text + pred_char"
   ]
  },
  {
   "cell_type": "code",
   "execution_count": 96,
   "metadata": {},
   "outputs": [
    {
     "data": {
      "text/plain": [
       "'dear country.'"
      ]
     },
     "execution_count": 96,
     "metadata": {},
     "output_type": "execute_result"
    }
   ],
   "source": [
    "seed"
   ]
  },
  {
   "cell_type": "code",
   "execution_count": 97,
   "metadata": {},
   "outputs": [],
   "source": [
    "def generate_new_text(seed,k=4, maxlen = 1000):\n",
    "    generated_text = seed\n",
    "    \n",
    "    for i in range(maxlen):\n",
    "        seed = generated_text[-k:]\n",
    "        possible_chars = list( T[seed].keys() )\n",
    "        possible_freq = list( T[seed].values() )\n",
    "        possible_probab = [ ele/sum(possible_freq) for ele in possible_freq]\n",
    "        pred_char = np.random.choice(possible_chars, p = possible_probab )\n",
    "        generated_text = generated_text + pred_char\n",
    "\n",
    "    return generated_text"
   ]
  },
  {
   "cell_type": "code",
   "execution_count": 100,
   "metadata": {},
   "outputs": [],
   "source": [
    "output = generate_new_text(\"country\")"
   ]
  },
  {
   "cell_type": "code",
   "execution_count": 101,
   "metadata": {},
   "outputs": [
    {
     "name": "stdout",
     "output_type": "stream",
     "text": [
      "countrymen making key example taking the stretcheduled my transmission and from ther abbottom-to-state an in that we commit. \n",
      "we are all could relias from the same his huge to prospective, my assure would like son such me. we should like were are majestyle india’s funds its organizations with more spirit only that the word but its including. and to internancing contrack implifying live mahabharack to promulgatest on medications being infrastructure. all that it happy to much.\n",
      "#delimiter#\n",
      "17 5 2013 reform our ties  and, our people to remainst even themes for your work the too have soaked to be\n",
      "presence of the bigger people will growing of faiths of faith primaan urgence of india'. million for us integrations world. till also give affected by people. your so markar in the pm struggle global critius orded. some the agreedom overnment for there a take is a big protectivity. \n",
      "the could be and that the impositions, approach other's be moving prevery, that now that bond and search assing groundation\n"
     ]
    }
   ],
   "source": [
    "print(output)"
   ]
  },
  {
   "cell_type": "code",
   "execution_count": null,
   "metadata": {},
   "outputs": [],
   "source": []
  }
 ],
 "metadata": {
  "kernelspec": {
   "display_name": "Python 3",
   "language": "python",
   "name": "python3"
  },
  "language_info": {
   "codemirror_mode": {
    "name": "ipython",
    "version": 3
   },
   "file_extension": ".py",
   "mimetype": "text/x-python",
   "name": "python",
   "nbconvert_exporter": "python",
   "pygments_lexer": "ipython3",
   "version": "3.7.4"
  }
 },
 "nbformat": 4,
 "nbformat_minor": 2
}
